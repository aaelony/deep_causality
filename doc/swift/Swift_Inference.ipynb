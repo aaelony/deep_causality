{
  "nbformat": 4,
  "nbformat_minor": 0,
  "metadata": {
    "colab": {
      "private_outputs": true,
      "provenance": [],
      "collapsed_sections": [
        "pz7xfSJQT0F2"
      ]
    },
    "kernelspec": {
      "name": "swift",
      "display_name": "Swift"
    }
  },
  "cells": [
    {
      "cell_type": "markdown",
      "metadata": {
        "id": "bNDaf0qee4_d"
      },
      "source": [
        "Observable protocol\n",
        "**bold text**\n",
        "Defines\n",
        "* An observation (data point)\n",
        "* An observed effect (possibly impacted by data point)\n",
        "* The total observation over all individual observations\n",
        "* The actual sample size"
      ]
    },
    {
      "cell_type": "code",
      "metadata": {
        "id": "cHW_C8JKfAUM"
      },
      "source": [
        "protocol Observable{\n",
        "    // Types specified in the implementation\n",
        "    associatedtype IdentificationValue: Comparable\n",
        "    associatedtype DescriptionValue: Comparable\n",
        "    associatedtype NumericValue: Numeric & Comparable\n",
        "\n",
        "    // Immutable fields\n",
        "    var id: IdentificationValue {get}\n",
        "    var label: DescriptionValue {get}\n",
        "    var cbservation: NumericValue {get}\n",
        "    var target_effect: NumericValue {get}\n",
        "}\n",
        "extension Observable{\n",
        "  func effect_observed() -> Bool{\n",
        "    if cbservation == target_effect{\n",
        "      return true\n",
        "    } else{\n",
        "      return false\n",
        "    }\n",
        "  }\n",
        "}\n",
        "\n",
        "extension Collection where Element: Observable {\n",
        "    func sample_size() -> Int{\n",
        "      return self.count\n",
        "    }\n",
        "/\n",
        "    func total_observation() -> Double {\n",
        "      let total = Double(self.count)\n",
        "      var count = 0.0\n",
        "        for element in self {\n",
        "              if element.effect_observed() {\n",
        "                  count+=1.0\n",
        "              }\n",
        "          }\n",
        "        return Double(count/total)\n",
        "    }\n",
        "}"
      ],
      "execution_count": null,
      "outputs": []
    },
    {
      "cell_type": "code",
      "metadata": {
        "id": "8N487Hlsh1zr"
      },
      "source": [
        "struct Observation : Observable{\n",
        "\n",
        "     typealias IdentificationValue = Int\n",
        "     typealias DescriptionValue = String\n",
        "     typealias NumericValue = Double\n",
        "\n",
        "    var id: IdentificationValue\n",
        "    var label: DescriptionValue\n",
        "    var cbservation: NumericValue\n",
        "    var effect: NumericValue\n",
        "    var target: NumericValue\n",
        "}"
      ],
      "execution_count": null,
      "outputs": []
    },
    {
      "cell_type": "markdown",
      "metadata": {
        "id": "Bykn9H4_Ae0v"
      },
      "source": [
        "## Inferable protocol\n",
        "\n",
        "Read:\n",
        "* [Swift Protocols](https://docs.swift.org/swift-book/LanguageGuide/Protocols.html)\n",
        "* [Differentiable types\n",
        "](https://github.com/tensorflow/swift/blob/main/docs/DifferentiableTypes.md)\n",
        "* [Protocol-oriented programming & generics\n",
        "](https://colab.research.google.com/github/tensorflow/swift/blob/main/docs/site/tutorials/protocol_oriented_generics.ipynb#scrollTo=c_1u7JSBMx3x)\n",
        "* [Swift for TensorFlow](https://github.com/tensorflow/swift)\n"
      ]
    },
    {
      "cell_type": "code",
      "metadata": {
        "id": "9m5zXdFwBNUx"
      },
      "source": [
        "// Defines the types and protocol of causal inference\n",
        "protocol Inferable {\n",
        "\n",
        "    // NumericalValue must be specified in the implemenation\n",
        "    // and adhere to the outlined type constraints of numeric & comperable.\n",
        "    // These types can be: Int, Float, Double, Scalar, Vector, Matrix, Tensor\n",
        "    associatedtype NumericalValue: Numeric & Comparable ##\n",
        "\n",
        "    // Immutable fields\n",
        "    var question: String { get }\n",
        "    var cbservation: NumericalValue { get }\n",
        "    var threshold: NumericalValue { get }\n",
        "    var effect: NumericalValue { get }\n",
        "\n",
        "    // Function interfaces. For details about conjoint delta, see note below.\n",
        "    func conjoint_delta () -> NumericalValue\n",
        "}\n",
        "\n",
        "// Defines a causal relationship\n",
        "extension Inferable{\n",
        "  func causal_relation() -> Bool{\n",
        "    // Observation exceeds threshold and the effect is present\n",
        "    let ev1 : Bool = (cbservation > threshold && effect == 1)\n",
        "    // No observation and no effect\n",
        "    let ev2 : Bool = (cbservation < threshold && effect == 0)\n",
        "    // Singelton only have one pair of observation and effct, thus the or operator.\n",
        "    if (ev1 || ev2) {\n",
        "      return true\n",
        "    } else {\n",
        "    // if observation with no effect or no oberservation with effect -> false\n",
        "    return false\n",
        "    }\n",
        "  }\n",
        "}\n",
        "\n",
        "// Defines a causality sequence over a collection of inferable items\n",
        "// This extension can also be defined over a generic graph of inferable nodes:-)\n",
        "extension Collection where Element: Inferable {\n",
        "\n",
        "    func allCausal() -> Bool {\n",
        "        for element in self {\n",
        "            if !element.causal_relation() {\n",
        "                return false\n",
        "            }\n",
        "        }\n",
        "        // Only if all observations adhere to a causal relationship,\n",
        "        // all ev1 and all ev2, then and only then the link is established.\n",
        "        return true\n",
        "    }\n",
        "}"
      ],
      "execution_count": null,
      "outputs": []
    },
    {
      "cell_type": "markdown",
      "metadata": {
        "id": "pz7xfSJQT0F2"
      },
      "source": [
        "### Conjoint delta\n",
        "\n",
        "\n",
        "The conjoint delta tells us in plain-text how many percent of the causality relation is attributed to unknown or unobserverd factors other than the stated causes.\n",
        "\n",
        "A conjoint factor may or may not impacts hidden causality. In the cancer example, the chain of causality might be true, but there might be a hidden conjoint factor, say \"asbestos\", and this may affect the causality to some extent.\n",
        "\n",
        "The conjoint delta estimates the effect of those unobserverd and unknown conjouint factors.\n",
        "\n",
        "The difference (delta) between all probabilities normalized to one and the sum of all measured causal probabilites refers to the conjoint delta, which is the remaining impact caused by others, non-observerd or even unknown, factors. The resulting number should be positive to avoid the fallacies of non-existing reverse causality. Therefore, the delta gets caclulated as absolute value:\n",
        "\n",
        "```\n",
        " conjoint_delta =  abs((1.0) - cbservation)\n",
        "```\n",
        "\n",
        "Because of Swift's higher order generics, the singelton implementation takes the effect as reference value from which the observation gets subtracted because a categorial type (NummericalValue) cannot be mixed with a specific lower level type (Double).\n",
        "\n",
        "```\n",
        " func conjoint_delta () -> NumericalValue{\n",
        "    return abs((effect) - cbservation)\n",
        "  }\n",
        "```\n",
        "\n",
        "@TODO: Collection generic conjoint delta\n"
      ]
    },
    {
      "cell_type": "markdown",
      "metadata": {
        "id": "raXuGBCqoODJ"
      },
      "source": []
    },
    {
      "cell_type": "code",
      "metadata": {
        "id": "OoPflFDxse-e"
      },
      "source": [
        "// // @FIXME: Collection Generic allConjointDelta function\n",
        "// extension Collection where Element: Inferable {\n",
        "\n",
        "//   typealias NumericalValue = Double\n",
        "\n",
        "//    func allConjointDelta() -> NumericalValue{\n",
        "//      let one = NumericalValue(1.0)\n",
        "//      let nr  = NumericalValue(self.count)\n",
        "//      var cum_conjoint:NumericalValue = 0.0\n",
        "\n",
        "//      for element in self {\n",
        "//         cum_conjoint+=element.cbservation\n",
        "//   }\n",
        "//   return one - (cum_conjoint/(nr))\n",
        "\n",
        "// }\n",
        "\n",
        "// }"
      ],
      "execution_count": null,
      "outputs": []
    },
    {
      "cell_type": "code",
      "metadata": {
        "id": "JZ1uXVOUrizP"
      },
      "source": [
        "// non-generic blueprint of allConjointDelta\n",
        "// var cum_conjoint = 0.0\n",
        "// for cause in all_causes{\n",
        "//     cum_conjoint+=cause.cbservation\n",
        "\n",
        "//     print(cause.cbservation)\n",
        "// }\n",
        "// let nr = Double(all_causes.count)\n",
        "// print(cum_conjoint/(nr) )\n",
        "\n",
        "// let total_conjoint_delta = 1.0 - (cum_conjoint/(nr))\n",
        "\n",
        "// print(\"total_conjoint_delta\", total_conjoint_delta*100)"
      ],
      "execution_count": null,
      "outputs": []
    },
    {
      "cell_type": "markdown",
      "metadata": {
        "id": "HCbYj-OLRpw1"
      },
      "source": [
        "# Protocol application\n"
      ]
    },
    {
      "cell_type": "markdown",
      "metadata": {
        "id": "obQTH6aPTzSb"
      },
      "source": [
        "\n",
        "## Singleton causality\n",
        "\n",
        "A singleton causality defines one question and links the observation to an effect. The threshold defines the ration of how many observations must lead to an effect so that the relationship is considered a causality."
      ]
    },
    {
      "cell_type": "code",
      "metadata": {
        "id": "asLp4ZvJRoMp"
      },
      "source": [
        "// Creates singleton case\n",
        "struct SingleCausality: Inferable{\n",
        "\n",
        "  typealias NumericalValue = Double\n",
        "\n",
        "  var question: String\n",
        "  var cbservation: NumericalValue\n",
        "  var threshold: NumericalValue\n",
        "  var effect: NumericalValue\n",
        "\n",
        "func conjoint_delta () -> NumericalValue{\n",
        "     let one: Double = 1.0\n",
        "     return abs((one) - cbservation)\n",
        "   }\n",
        "\n",
        "}"
      ],
      "execution_count": null,
      "outputs": []
    },
    {
      "cell_type": "markdown",
      "metadata": {
        "id": "Bc5TzCobpRmi"
      },
      "source": [
        "## Range example"
      ]
    },
    {
      "cell_type": "markdown",
      "metadata": {
        "id": "upnNyDOPohyH"
      },
      "source": [
        "Let's observe some data. Suppose we query a database containing a sequence of range data.\n",
        "\n",
        "* ID and Label are convience fields to make things easier to read and understand\n",
        "\n",
        "* The obervation is the actual range data point in each case.\n",
        "\n",
        "* The effect, however, is what we aim to link to the observation.\n",
        "\n",
        "* The target refers to the target vbalue of the effect when it is present.\n",
        "\n"
      ]
    },
    {
      "cell_type": "code",
      "metadata": {
        "id": "FEtBp8Kvi0Sk"
      },
      "source": [
        "// Set of single observations\n",
        "let obs0 = Observation(id: 0, label: \"range\", cbservation: 0.89, effect: 1.0, target: 1.0)\n",
        "let obs1 = Observation(id: 1, label: \"range\", cbservation: 0.87, effect: 1.0, target: 1.0)\n",
        "let obs2 = Observation(id: 2, label: \"range\", cbservation: 0.78, effect: 1.0, target: 1.0)\n",
        "let obs3 = Observation(id: 3, label: \"range\", cbservation: 0.65, effect: 1.0, target: 1.0)\n",
        "let obs4 = Observation(id: 4, label: \"range\", cbservation: 0.55, effect: 1.0, target: 1.0)\n",
        "let obs5 = Observation(id: 5, label: \"range\", cbservation: 0.45, effect: 0.0, target: 1.0)\n",
        "let obs6 = Observation(id: 6, label: \"range\", cbservation: 0.35, effect: 0.0, target: 1.0)\n",
        "let obs7 = Observation(id: 7, label: \"range\", cbservation: 0.25, effect: 0.0, target: 1.0)"
      ],
      "execution_count": null,
      "outputs": []
    },
    {
      "cell_type": "markdown",
      "metadata": {
        "id": "bU0AhKKApkEj"
      },
      "source": [
        "Let's aggregate all these data sample points"
      ]
    },
    {
      "cell_type": "code",
      "metadata": {
        "id": "sls_8I5YpfD3"
      },
      "source": [
        "let all_obs = [obs0, obs1, obs2, obs3, obs4, obs5, obs6, obs7]\n",
        "print (\"Sample Size: \", all_obs.sample_size())\n",
        "print(\"Total Observations: \", all_obs.total_observation())"
      ],
      "execution_count": null,
      "outputs": []
    },
    {
      "cell_type": "markdown",
      "metadata": {
        "id": "nDtIOFmjqMnZ"
      },
      "source": [
        "Lets check the aggregated result for a causal relation\n"
      ]
    },
    {
      "cell_type": "code",
      "metadata": {
        "id": "LUW8zkzDptbf"
      },
      "source": [
        "let question = \"Does the price stays in range? \"\n",
        "let observation = all_obs.total_observation()\n",
        "let threshold = 0.55\n",
        "let effect = 1.0\n",
        "\n",
        "let range_effect = SingleCausality(\n",
        "  question: question,\n",
        "  cbservation: observation ,\n",
        "  threshold: threshold ,\n",
        "  effect: effect\n",
        "  )\n",
        "print(question, range_effect.causal_relation())\n",
        "//\n",
        "print(\"ConjointDelta\", range_effect.conjoint_delta())"
      ],
      "execution_count": null,
      "outputs": []
    },
    {
      "cell_type": "markdown",
      "metadata": {
        "id": "CWPO2sgPsVb0"
      },
      "source": [
        "From just observing the data, we know a few things:\n",
        "\n",
        "* If the range behaves as observed, then yes, the price stays within that range.\n",
        "\n",
        "* We also know from the causality inference that this is true for the bulk of the cases in excess of a certain threshold.\n",
        "\n",
        "* We also know that we have some 37% impact of others, unobserved factors that contribute to that effect.\n",
        "\n",
        "Furthermore, just from having converted the initial series of observations into a singelton causality, we can also do the following:\n",
        "\n",
        "* Combine the resulting insigth with others through a causality collection to form a causality sequence of arbitrary length\n",
        "\n",
        "* As each causality collection ultimately only infer one line of reasoning through strict linearity, then, multiple of those collections can be inter-connected using a graph-like structure to express more advanced conjectures between causalities.\n",
        "\n",
        "* Track the same insigth over time through sampling and updating. For example, replacing with the fixed data sample with a real-time data feed implies some sampling at some interval. After each data sampling, updating the underlying data series allows then to re-evaluate all subsequent steps and ultimate update the causality link, which then might be already be part of a causality collection or causality graph.\n"
      ]
    },
    {
      "cell_type": "markdown",
      "metadata": {
        "id": "rgFPmhEES07D"
      },
      "source": [
        "# Smoking example\n",
        "\n",
        "Suppose we did a clinical study asking whether smoking causes loung cancer and suppose we got inconlusive results back from the study. We can immediately test for causality using the aggregated results although these are not controlled for any confunder."
      ]
    },
    {
      "cell_type": "code",
      "metadata": {
        "id": "NxJgKShFS5pz"
      },
      "source": [
        "let question = \"Does smoking causes tar cancer? \"\n",
        "let observation = 0.49\n",
        "let threshold = 0.55\n",
        "let effect = 1.0\n",
        "\n",
        "let smokeCancer = SingleCausality(\n",
        "  question: question,\n",
        "  cbservation: observation ,\n",
        "  threshold: threshold ,\n",
        "  effect: effect\n",
        "  )\n",
        "print(question, smokeCancer.causal_relation())\n",
        "//\n",
        "print(\"ConjointDelta\", smokeCancer.conjoint_delta())"
      ],
      "execution_count": null,
      "outputs": []
    },
    {
      "cell_type": "markdown",
      "metadata": {
        "id": "stGLXLBNPbx9"
      },
      "source": [
        "## Q: Does smoking causes tar?\n",
        "\n",
        "Let's suppose there really is no direct causality link between smoking and getting loung cancer that we can measure.\n",
        "\n",
        "Instead there might be a higher order causality chain as we observed in the previous study that those who actually got cancer usually had tar in loung. So let's test again and see if peopke who smoke get tar in their loung"
      ]
    },
    {
      "cell_type": "code",
      "metadata": {
        "id": "4Jz9aykbJmqW"
      },
      "source": [
        "let observation = 0.98\n",
        "let threshold = 0.55\n",
        "let effect = 1.0\n",
        "let question = \"Does smoking causes tar in loung? \"\n",
        "\n",
        "let smokeTar: SingleCausality = SingleCausality(\n",
        "  question: question,\n",
        "  cbservation: observation ,\n",
        "  threshold: threshold ,\n",
        "  effect: effect\n",
        ")\n",
        "print(question, smokeTar.causal_relation())\n",
        "//\n",
        "print(\"ConjointDelta\", smokeTar.conjoint_delta())"
      ],
      "execution_count": null,
      "outputs": []
    },
    {
      "cell_type": "markdown",
      "metadata": {
        "id": "KM4q40jbPrKC"
      },
      "source": [
        "## Q: Does tar causes cancer?\n",
        "\n",
        "Indeed, smoking causes tar in the loung. Now, the big question is, if tar causes cancer in those who got tar in their loung\n"
      ]
    },
    {
      "cell_type": "code",
      "metadata": {
        "id": "7jg8OfUkOP89"
      },
      "source": [
        "let observation = 0.78\n",
        "let threshold = 0.55\n",
        "let effect = 1.0\n",
        "let question = \"Does tar in loung causes cancer? \"\n",
        "\n",
        "let tarCancer = SingleCausality(\n",
        "  question: question,\n",
        "  cbservation: observation ,\n",
        "  threshold: threshold ,\n",
        "  effect: effect\n",
        ")\n",
        "print(question, tarCancer.causal_relation())\n",
        "//\n",
        "print(\"ConjointDelta\", tarCancer.conjoint_delta())"
      ],
      "execution_count": null,
      "outputs": []
    },
    {
      "cell_type": "markdown",
      "metadata": {
        "id": "ZYANzhbPVFir"
      },
      "source": [
        "## Q: Does Lung cancer shortens life expectancy?c\n",
        "Let's see if another study could establish a link between age expectation and suffering from lung cancer."
      ]
    },
    {
      "cell_type": "code",
      "metadata": {
        "id": "HneTHqPxVVdP"
      },
      "source": [
        "let observation = 0.65\n",
        "let threshold = 0.55\n",
        "let effect = 1.0\n",
        "let question = \"Does loung cancer shortens life:? \"\n",
        "\n",
        "let cancerAge = SingleCausality(\n",
        "  question: question,\n",
        "  cbservation: observation ,\n",
        "  threshold: threshold ,\n",
        "  effect: effect\n",
        ")\n",
        "print(question, cancerAge.causal_relation())\n",
        "//\n",
        "print(\"ConjointDelta\", cancerAge.conjoint_delta())"
      ],
      "execution_count": null,
      "outputs": []
    },
    {
      "cell_type": "markdown",
      "metadata": {
        "id": "ZcgRPgCBQ-se"
      },
      "source": [
        "## Q: Does Smoking causes cancer? -  In 3 lines!\n",
        "\n",
        "\n",
        "\n",
        "\n"
      ]
    },
    {
      "cell_type": "code",
      "metadata": {
        "id": "I4izUQXiPaKg"
      },
      "source": [
        "// 1. Aggregate causality in a collection\n",
        "let all_causes: [SingleCausality] = [smokeTar, tarCancer, cancerAge]\n",
        "// 2. Eval total causality across all SingleCausalities\n",
        "let total_causality = all_causes.allCausal()\n",
        "// 3. Print results\n",
        "print(\"Does Smoking causes cancer? \", total_causality)// 3. Print results"
      ],
      "execution_count": null,
      "outputs": []
    },
    {
      "cell_type": "markdown",
      "metadata": {
        "id": "R7UiWsNpbZDm"
      },
      "source": [
        "##  Explain your reasoning!\n",
        "\n"
      ]
    },
    {
      "cell_type": "code",
      "metadata": {
        "id": "-NJY-UY9cAJt"
      },
      "source": [
        "for cause in all_causes{\n",
        "    print(cause.question,\n",
        "          (100*cause.cbservation),\"%\",\n",
        "          cause.causal_relation())\n",
        "}\n",
        "print(\" ==> Therefore smoking causes cancer and shortens life!\")\n",
        "// Bonus: Poking fun\n",
        "print(\"Want a cigar, now!\")"
      ],
      "execution_count": null,
      "outputs": []
    }
  ]
}